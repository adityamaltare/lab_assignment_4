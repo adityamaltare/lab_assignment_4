{
 "cells": [
  {
   "cell_type": "code",
   "execution_count": null,
   "metadata": {},
   "outputs": [],
   "source": [
    "list=[]\n",
    "list1=[]\n",
    "# Input line\n",
    "list= input(\"Enter the line: -\").split()\n",
    "# Word and count in a single list\n",
    "for i in list:\n",
    "    x = list.count(i)\n",
    "    value=[i,x]\n",
    "    list1.append(tuple(value))\n",
    "list2=list1\n",
    "# loop to repeated word\n",
    "for i in list1:\n",
    "    if i in list2:\n",
    "        while(list2.count(i)):\n",
    "            list2.remove(i)\n",
    "        list2.append(i)\n",
    "# sorting alpha numerically\n",
    "list2.sort()\n",
    "\n",
    "# printing list\n",
    "for i in list2:\n",
    "    print(i[0]+\":\"+str(i[1]))"
   ]
  }
 ],
 "metadata": {
  "kernelspec": {
   "display_name": "Python 3",
   "language": "python",
   "name": "python3"
  },
  "language_info": {
   "codemirror_mode": {
    "name": "ipython",
    "version": 3
   },
   "file_extension": ".py",
   "mimetype": "text/x-python",
   "name": "python",
   "nbconvert_exporter": "python",
   "pygments_lexer": "ipython3",
   "version": "3.8.3"
  }
 },
 "nbformat": 4,
 "nbformat_minor": 4
}
