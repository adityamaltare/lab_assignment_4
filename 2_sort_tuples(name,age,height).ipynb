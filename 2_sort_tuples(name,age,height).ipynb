{
 "cells": [
  {
   "cell_type": "markdown",
   "metadata": {},
   "source": [
    "# Program to sort the tuples(name,age,height)"
   ]
  },
  {
   "cell_type": "code",
   "execution_count": 1,
   "metadata": {},
   "outputs": [
    {
     "name": "stdout",
     "output_type": "stream",
     "text": [
      "total_people: 5\n",
      "name,age,height: tom,19,80\n",
      "name,age,height: john,20,90\n",
      "name,age,height: jony,17,91\n",
      "name,age,height: jony,17,93\n",
      "name,age,height: json,21,85\n",
      "[('john', '20', '90'), ('jony', '17', '91'), ('jony', '17', '93'), ('json', '21', '85'), ('tom', '19', '80')]\n"
     ]
    }
   ],
   "source": [
    "'''Q.2 You are required to write a program to sort the (name, age, height) tuples by ascending order where name is string, age and height are numbers. The tuples are input by console. The sort criteria is:\n",
    "1: Sort based on name;\n",
    "2: Then sort based on age;\n",
    "3: Then sort by score.\n",
    "The priority is that name > age > score.'''\n",
    "\n",
    "\n",
    "from operator import itemgetter\n",
    "i=1\n",
    "N=int(input(\"total_people: \"))\n",
    "listt=[]\n",
    "while i<=N:\n",
    "    info_people=input(\"name,age,height: \")\n",
    "    if info_people==\" \":\n",
    "        print(\"enter correct info: \")\n",
    "    else:\n",
    "        listt.append(tuple(info_people.split(\",\")))\n",
    "    i+=1\n",
    "print(sorted(listt, key=itemgetter(0,1,2)))"
   ]
  }
 ],
 "metadata": {
  "kernelspec": {
   "display_name": "Python 3",
   "language": "python",
   "name": "python3"
  },
  "language_info": {
   "codemirror_mode": {
    "name": "ipython",
    "version": 3
   },
   "file_extension": ".py",
   "mimetype": "text/x-python",
   "name": "python",
   "nbconvert_exporter": "python",
   "pygments_lexer": "ipython3",
   "version": "3.8.3"
  }
 },
 "nbformat": 4,
 "nbformat_minor": 4
}
