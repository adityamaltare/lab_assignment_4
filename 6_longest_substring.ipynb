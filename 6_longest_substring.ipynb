{
 "cells": [
  {
   "cell_type": "code",
   "execution_count": null,
   "metadata": {},
   "outputs": [],
   "source": [
    "string= input(\"enter any string:  \") \n",
    "string = string.replace(' ','')\n",
    "\n",
    "value=\"\"\n",
    "list=[]\n",
    "if not string:\n",
    "    print(-1)\n",
    "else:\n",
    "    if string:\n",
    "        for i in string:\n",
    "            if i in value:\n",
    "                list.append(value)\n",
    "                string=string.replace(value,'')\n",
    "                value=i\n",
    "            else:\n",
    "                value=value+i\n",
    "        list.append(value)\n",
    "    print(max(list,key=len))"
   ]
  }
 ],
 "metadata": {
  "kernelspec": {
   "display_name": "Python 3",
   "language": "python",
   "name": "python3"
  },
  "language_info": {
   "codemirror_mode": {
    "name": "ipython",
    "version": 3
   },
   "file_extension": ".py",
   "mimetype": "text/x-python",
   "name": "python",
   "nbconvert_exporter": "python",
   "pygments_lexer": "ipython3",
   "version": "3.8.3"
  }
 },
 "nbformat": 4,
 "nbformat_minor": 4
}
